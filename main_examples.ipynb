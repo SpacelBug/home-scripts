{
 "cells": [
  {
   "cell_type": "code",
   "execution_count": 1,
   "metadata": {
    "collapsed": true
   },
   "outputs": [],
   "source": [
    "from sentries import explorer, txt_sentry, images_sentry, dataset_process\n",
    "\n",
    "directory_path = 'directory'"
   ]
  },
  {
   "cell_type": "markdown",
   "source": [
    "### Explorer test"
   ],
   "metadata": {
    "collapsed": false
   }
  },
  {
   "cell_type": "code",
   "execution_count": 3,
   "outputs": [
    {
     "name": "stdout",
     "output_type": "stream",
     "text": [
      "RIFF (little-endian) data, AVI, 2048 x 1536, 2.00 fps, video: Motion JPEG\n",
      "ASCII text, with no line terminators\n",
      "cannot open `test_data\\data\\\\320\\242\\320\\265\\320\\272\\321\\201\\321\\202\\320\\276\\320\\262\\321\\213\\320\\271 \\320\\264\\320\\276\\320\\272\\321\\203\\320\\274\\320\\265\\320\\275\\321\\202.txt' (No such file or directory)\n",
      "PNG image data, 2048 x 1536, 8-bit/color RGB, non-interlaced\n",
      "PNG image data, 2048 x 1536, 8-bit/color RGB, non-interlaced\n",
      "PNG image data, 2048 x 1536, 8-bit/color RGB, non-interlaced\n",
      "PNG image data, 2048 x 1536, 8-bit/color RGB, non-interlaced\n",
      "PNG image data, 2048 x 1536, 8-bit/color RGB, non-interlaced\n",
      "PNG image data, 2048 x 1536, 8-bit/color RGB, non-interlaced\n",
      "PNG image data, 2048 x 1536, 8-bit/color RGB, non-interlaced\n",
      "PNG image data, 2048 x 1536, 8-bit/color RGB, non-interlaced\n",
      "PNG image data, 2048 x 1536, 8-bit/color RGB, non-interlaced\n",
      "PNG image data, 2048 x 1536, 8-bit/color RGB, non-interlaced\n",
      "PNG image data, 2048 x 1536, 8-bit/color RGB, non-interlaced\n",
      "PNG image data, 2048 x 1536, 8-bit/color RGB, non-interlaced\n",
      "PNG image data, 2048 x 1536, 8-bit/color RGB, non-interlaced\n",
      "PNG image data, 2048 x 1536, 8-bit/color RGB, non-interlaced\n",
      "PNG image data, 2048 x 1536, 8-bit/color RGB, non-interlaced\n",
      "PNG image data, 2048 x 1536, 8-bit/color RGB, non-interlaced\n",
      "PNG image data, 2048 x 1536, 8-bit/color RGB, non-interlaced\n",
      "PNG image data, 2048 x 1536, 8-bit/color RGB, non-interlaced\n",
      "PNG image data, 2048 x 1536, 8-bit/color RGB, non-interlaced\n",
      "PNG image data, 2048 x 1536, 8-bit/color RGB, non-interlaced\n",
      "PNG image data, 2048 x 1536, 8-bit/color RGB, non-interlaced\n"
     ]
    }
   ],
   "source": [
    "directory = explorer.Directory(directory_path)\n",
    "\n",
    "for file in directory.get_all_files():\n",
    "    print(file.info)"
   ],
   "metadata": {
    "collapsed": false
   }
  }
 ],
 "metadata": {
  "kernelspec": {
   "display_name": "Python 3",
   "language": "python",
   "name": "python3"
  },
  "language_info": {
   "codemirror_mode": {
    "name": "ipython",
    "version": 2
   },
   "file_extension": ".py",
   "mimetype": "text/x-python",
   "name": "python",
   "nbconvert_exporter": "python",
   "pygments_lexer": "ipython2",
   "version": "2.7.6"
  }
 },
 "nbformat": 4,
 "nbformat_minor": 0
}
